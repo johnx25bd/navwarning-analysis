{
 "cells": [
  {
   "cell_type": "code",
   "execution_count": 44,
   "metadata": {},
   "outputs": [],
   "source": [
    "import pandas as pd\n",
    "import geopandas as gpd\n",
    "import shapely\n",
    "import matplotlib.pyplot as plt\n",
    "import datetime as dt"
   ]
  },
  {
   "cell_type": "code",
   "execution_count": 60,
   "metadata": {},
   "outputs": [],
   "source": [
    "def convertGeometries(df):\n",
    "    for i in range(len(df)):\n",
    "        geom_type = df.loc[i, 'GeometryType']\n",
    "        geom = None\n",
    "        if geom_type == 'Point':\n",
    "            geom =shapely.geometry.Point(df.loc[i,'Coordinates'])\n",
    "        elif geom_type == 'GeometryCollection':\n",
    "            if df.loc[i,'Coordinates'][0] == df.loc[i,'Coordinates'][-1]:\n",
    "                geom = shapely.geometry.Polygon(df.loc[i,'Coordinates'])\n",
    "            else:\n",
    "                geom = shapely.geometry.LineString(df.loc[i,'Coordinates'])\n",
    "        df.loc[i, 'geometry'] = geom"
   ]
  },
  {
   "cell_type": "code",
   "execution_count": 61,
   "metadata": {},
   "outputs": [],
   "source": [
    "df = pd.read_csv('https://raw.githubusercontent.com/robisoniv/navwarning-analysis/master/CleanedData.csv')\n",
    "df = df.drop(columns=['Unnamed: 0'])\n",
    "df['StartDate'] = pd.to_datetime(df['StartDate'])\n",
    "df['EndDate'] = pd.to_datetime(df['EndDate'])\n",
    "df['BroadcastingDate'] = pd.to_datetime(df['BroadcastingDate'])\n",
    "df['Coordinates'] = df['Coordinates'].apply(lambda c: eval(c))\n",
    "convertGeometries(df)"
   ]
  },
  {
   "cell_type": "code",
   "execution_count": 62,
   "metadata": {},
   "outputs": [
    {
     "data": {
      "text/html": [
       "<div>\n",
       "<style scoped>\n",
       "    .dataframe tbody tr th:only-of-type {\n",
       "        vertical-align: middle;\n",
       "    }\n",
       "\n",
       "    .dataframe tbody tr th {\n",
       "        vertical-align: top;\n",
       "    }\n",
       "\n",
       "    .dataframe thead th {\n",
       "        text-align: right;\n",
       "    }\n",
       "</style>\n",
       "<table border=\"1\" class=\"dataframe\">\n",
       "  <thead>\n",
       "    <tr style=\"text-align: right;\">\n",
       "      <th></th>\n",
       "      <th>Area</th>\n",
       "      <th>Chart</th>\n",
       "      <th>Message</th>\n",
       "      <th>Authority</th>\n",
       "      <th>Date</th>\n",
       "      <th>StartDate</th>\n",
       "      <th>EndDate</th>\n",
       "      <th>BroadcastingDate</th>\n",
       "      <th>GeometryType</th>\n",
       "      <th>geometry</th>\n",
       "      <th>Coordinates</th>\n",
       "    </tr>\n",
       "  </thead>\n",
       "  <tbody>\n",
       "    <tr>\n",
       "      <th>0</th>\n",
       "      <td>CANADA-NORTH COAST.  /BEAUFORT SEA.</td>\n",
       "      <td>15940</td>\n",
       "      <td>BOTTOM SCIENTIFIC MOORING EXTENDING 3.5 METERS...</td>\n",
       "      <td>NAVAREA XVII</td>\n",
       "      <td>No date listed</td>\n",
       "      <td>2018-06-01</td>\n",
       "      <td>2018-06-01</td>\n",
       "      <td>2018-06-01</td>\n",
       "      <td>Point</td>\n",
       "      <td>POINT Z (-127.688834 70.55800000000001 0)</td>\n",
       "      <td>[(-127.688834, 70.558, 0.0)]</td>\n",
       "    </tr>\n",
       "    <tr>\n",
       "      <th>1</th>\n",
       "      <td>ARCTIC. /BEAUFORT SEA.</td>\n",
       "      <td>15945</td>\n",
       "      <td>SCIENTIFIC MOORINGS, TOP FLOAT 29 METERS, ESTA...</td>\n",
       "      <td>NAVAREA XVII</td>\n",
       "      <td>No date listed</td>\n",
       "      <td>2018-06-01</td>\n",
       "      <td>2018-06-01</td>\n",
       "      <td>2018-06-01</td>\n",
       "      <td>Point</td>\n",
       "      <td>POINT Z (-133.714 70.0585 0)</td>\n",
       "      <td>[(-133.714, 70.0585, 0.0)]</td>\n",
       "    </tr>\n",
       "    <tr>\n",
       "      <th>2</th>\n",
       "      <td>ARCTIC. /BEAUFORT SEA.</td>\n",
       "      <td>15945</td>\n",
       "      <td>SCIENTIFIC MOORINGS, TOP FLOAT 29 METERS, ESTA...</td>\n",
       "      <td>NAVAREA XVII</td>\n",
       "      <td>No date listed</td>\n",
       "      <td>2018-06-01</td>\n",
       "      <td>2018-06-01</td>\n",
       "      <td>2018-06-01</td>\n",
       "      <td>Point</td>\n",
       "      <td>POINT Z (-133.717167 70.0585 0)</td>\n",
       "      <td>[(-133.717167, 70.0585, 0.0)]</td>\n",
       "    </tr>\n",
       "    <tr>\n",
       "      <th>3</th>\n",
       "      <td>ARCTIC./CHUCKCHI SEA.</td>\n",
       "      <td>16003</td>\n",
       "      <td>SCIENTIFIC MOORING, TOP FLOAT 971 FEET, ESTABL...</td>\n",
       "      <td>CGC HEALY</td>\n",
       "      <td>No date listed</td>\n",
       "      <td>2018-06-01</td>\n",
       "      <td>2018-06-01</td>\n",
       "      <td>2018-06-01</td>\n",
       "      <td>Point</td>\n",
       "      <td>POINT Z (-158.410434 72.7996 0)</td>\n",
       "      <td>[(-158.410434, 72.7996, 0.0)]</td>\n",
       "    </tr>\n",
       "    <tr>\n",
       "      <th>4</th>\n",
       "      <td>ARCTIC./CHUKCHI SEA.</td>\n",
       "      <td>16003.</td>\n",
       "      <td>DNC 27. SCIENTIFIC MOORING ESTABLISHED VICINIT...</td>\n",
       "      <td>NAVAREA XVII</td>\n",
       "      <td>No date listed</td>\n",
       "      <td>2018-06-01</td>\n",
       "      <td>2018-06-01</td>\n",
       "      <td>2018-06-01</td>\n",
       "      <td>Point</td>\n",
       "      <td>POINT Z (-158.702167 72.615167 0)</td>\n",
       "      <td>[(-158.702167, 72.615167, 0.0)]</td>\n",
       "    </tr>\n",
       "  </tbody>\n",
       "</table>\n",
       "</div>"
      ],
      "text/plain": [
       "                                   Area   Chart  \\\n",
       "0  CANADA-NORTH COAST.  /BEAUFORT SEA.    15940   \n",
       "1               ARCTIC. /BEAUFORT SEA.    15945   \n",
       "2               ARCTIC. /BEAUFORT SEA.    15945   \n",
       "3                 ARCTIC./CHUCKCHI SEA.   16003   \n",
       "4                  ARCTIC./CHUKCHI SEA.  16003.   \n",
       "\n",
       "                                             Message     Authority  \\\n",
       "0  BOTTOM SCIENTIFIC MOORING EXTENDING 3.5 METERS...  NAVAREA XVII   \n",
       "1  SCIENTIFIC MOORINGS, TOP FLOAT 29 METERS, ESTA...  NAVAREA XVII   \n",
       "2  SCIENTIFIC MOORINGS, TOP FLOAT 29 METERS, ESTA...  NAVAREA XVII   \n",
       "3  SCIENTIFIC MOORING, TOP FLOAT 971 FEET, ESTABL...     CGC HEALY   \n",
       "4  DNC 27. SCIENTIFIC MOORING ESTABLISHED VICINIT...  NAVAREA XVII   \n",
       "\n",
       "             Date  StartDate    EndDate BroadcastingDate GeometryType  \\\n",
       "0  No date listed 2018-06-01 2018-06-01       2018-06-01        Point   \n",
       "1  No date listed 2018-06-01 2018-06-01       2018-06-01        Point   \n",
       "2  No date listed 2018-06-01 2018-06-01       2018-06-01        Point   \n",
       "3  No date listed 2018-06-01 2018-06-01       2018-06-01        Point   \n",
       "4  No date listed 2018-06-01 2018-06-01       2018-06-01        Point   \n",
       "\n",
       "                                    geometry                      Coordinates  \n",
       "0  POINT Z (-127.688834 70.55800000000001 0)     [(-127.688834, 70.558, 0.0)]  \n",
       "1               POINT Z (-133.714 70.0585 0)       [(-133.714, 70.0585, 0.0)]  \n",
       "2            POINT Z (-133.717167 70.0585 0)    [(-133.717167, 70.0585, 0.0)]  \n",
       "3            POINT Z (-158.410434 72.7996 0)    [(-158.410434, 72.7996, 0.0)]  \n",
       "4          POINT Z (-158.702167 72.615167 0)  [(-158.702167, 72.615167, 0.0)]  "
      ]
     },
     "execution_count": 62,
     "metadata": {},
     "output_type": "execute_result"
    }
   ],
   "source": [
    "df.head()"
   ]
  },
  {
   "cell_type": "code",
   "execution_count": 63,
   "metadata": {},
   "outputs": [],
   "source": [
    "gdf = gpd.GeoDataFrame(df)\n",
    "gdf['centroid'] = gdf['geometry'].centroid\n",
    "for i in range(len(gdf)):\n",
    "    gdf.loc[i, 'lon_centroid'] = list(gdf.loc[i, 'centroid'].coords[0])[0]\n",
    "    gdf.loc[i, 'lat_centroid'] = list(gdf.loc[i, 'centroid'].coords[0])[1]"
   ]
  },
  {
   "cell_type": "code",
   "execution_count": 64,
   "metadata": {},
   "outputs": [
    {
     "data": {
      "text/html": [
       "<div>\n",
       "<style scoped>\n",
       "    .dataframe tbody tr th:only-of-type {\n",
       "        vertical-align: middle;\n",
       "    }\n",
       "\n",
       "    .dataframe tbody tr th {\n",
       "        vertical-align: top;\n",
       "    }\n",
       "\n",
       "    .dataframe thead th {\n",
       "        text-align: right;\n",
       "    }\n",
       "</style>\n",
       "<table border=\"1\" class=\"dataframe\">\n",
       "  <thead>\n",
       "    <tr style=\"text-align: right;\">\n",
       "      <th></th>\n",
       "      <th>Area</th>\n",
       "      <th>Chart</th>\n",
       "      <th>Message</th>\n",
       "      <th>Authority</th>\n",
       "      <th>Date</th>\n",
       "      <th>StartDate</th>\n",
       "      <th>EndDate</th>\n",
       "      <th>BroadcastingDate</th>\n",
       "      <th>GeometryType</th>\n",
       "      <th>geometry</th>\n",
       "      <th>Coordinates</th>\n",
       "      <th>centroid</th>\n",
       "      <th>lon_centroid</th>\n",
       "      <th>lat_centroid</th>\n",
       "    </tr>\n",
       "  </thead>\n",
       "  <tbody>\n",
       "    <tr>\n",
       "      <th>0</th>\n",
       "      <td>CANADA-NORTH COAST.  /BEAUFORT SEA.</td>\n",
       "      <td>15940</td>\n",
       "      <td>BOTTOM SCIENTIFIC MOORING EXTENDING 3.5 METERS...</td>\n",
       "      <td>NAVAREA XVII</td>\n",
       "      <td>No date listed</td>\n",
       "      <td>2018-06-01</td>\n",
       "      <td>2018-06-01</td>\n",
       "      <td>2018-06-01</td>\n",
       "      <td>Point</td>\n",
       "      <td>POINT Z (-127.688834 70.55800000000001 0)</td>\n",
       "      <td>[(-127.688834, 70.558, 0.0)]</td>\n",
       "      <td>POINT (-127.688834 70.55800000000001)</td>\n",
       "      <td>-127.688834</td>\n",
       "      <td>70.558000</td>\n",
       "    </tr>\n",
       "    <tr>\n",
       "      <th>1</th>\n",
       "      <td>ARCTIC. /BEAUFORT SEA.</td>\n",
       "      <td>15945</td>\n",
       "      <td>SCIENTIFIC MOORINGS, TOP FLOAT 29 METERS, ESTA...</td>\n",
       "      <td>NAVAREA XVII</td>\n",
       "      <td>No date listed</td>\n",
       "      <td>2018-06-01</td>\n",
       "      <td>2018-06-01</td>\n",
       "      <td>2018-06-01</td>\n",
       "      <td>Point</td>\n",
       "      <td>POINT Z (-133.714 70.0585 0)</td>\n",
       "      <td>[(-133.714, 70.0585, 0.0)]</td>\n",
       "      <td>POINT (-133.714 70.0585)</td>\n",
       "      <td>-133.714000</td>\n",
       "      <td>70.058500</td>\n",
       "    </tr>\n",
       "    <tr>\n",
       "      <th>2</th>\n",
       "      <td>ARCTIC. /BEAUFORT SEA.</td>\n",
       "      <td>15945</td>\n",
       "      <td>SCIENTIFIC MOORINGS, TOP FLOAT 29 METERS, ESTA...</td>\n",
       "      <td>NAVAREA XVII</td>\n",
       "      <td>No date listed</td>\n",
       "      <td>2018-06-01</td>\n",
       "      <td>2018-06-01</td>\n",
       "      <td>2018-06-01</td>\n",
       "      <td>Point</td>\n",
       "      <td>POINT Z (-133.717167 70.0585 0)</td>\n",
       "      <td>[(-133.717167, 70.0585, 0.0)]</td>\n",
       "      <td>POINT (-133.717167 70.0585)</td>\n",
       "      <td>-133.717167</td>\n",
       "      <td>70.058500</td>\n",
       "    </tr>\n",
       "    <tr>\n",
       "      <th>3</th>\n",
       "      <td>ARCTIC./CHUCKCHI SEA.</td>\n",
       "      <td>16003</td>\n",
       "      <td>SCIENTIFIC MOORING, TOP FLOAT 971 FEET, ESTABL...</td>\n",
       "      <td>CGC HEALY</td>\n",
       "      <td>No date listed</td>\n",
       "      <td>2018-06-01</td>\n",
       "      <td>2018-06-01</td>\n",
       "      <td>2018-06-01</td>\n",
       "      <td>Point</td>\n",
       "      <td>POINT Z (-158.410434 72.7996 0)</td>\n",
       "      <td>[(-158.410434, 72.7996, 0.0)]</td>\n",
       "      <td>POINT (-158.410434 72.7996)</td>\n",
       "      <td>-158.410434</td>\n",
       "      <td>72.799600</td>\n",
       "    </tr>\n",
       "    <tr>\n",
       "      <th>4</th>\n",
       "      <td>ARCTIC./CHUKCHI SEA.</td>\n",
       "      <td>16003.</td>\n",
       "      <td>DNC 27. SCIENTIFIC MOORING ESTABLISHED VICINIT...</td>\n",
       "      <td>NAVAREA XVII</td>\n",
       "      <td>No date listed</td>\n",
       "      <td>2018-06-01</td>\n",
       "      <td>2018-06-01</td>\n",
       "      <td>2018-06-01</td>\n",
       "      <td>Point</td>\n",
       "      <td>POINT Z (-158.702167 72.615167 0)</td>\n",
       "      <td>[(-158.702167, 72.615167, 0.0)]</td>\n",
       "      <td>POINT (-158.702167 72.615167)</td>\n",
       "      <td>-158.702167</td>\n",
       "      <td>72.615167</td>\n",
       "    </tr>\n",
       "  </tbody>\n",
       "</table>\n",
       "</div>"
      ],
      "text/plain": [
       "                                   Area   Chart  \\\n",
       "0  CANADA-NORTH COAST.  /BEAUFORT SEA.    15940   \n",
       "1               ARCTIC. /BEAUFORT SEA.    15945   \n",
       "2               ARCTIC. /BEAUFORT SEA.    15945   \n",
       "3                 ARCTIC./CHUCKCHI SEA.   16003   \n",
       "4                  ARCTIC./CHUKCHI SEA.  16003.   \n",
       "\n",
       "                                             Message     Authority  \\\n",
       "0  BOTTOM SCIENTIFIC MOORING EXTENDING 3.5 METERS...  NAVAREA XVII   \n",
       "1  SCIENTIFIC MOORINGS, TOP FLOAT 29 METERS, ESTA...  NAVAREA XVII   \n",
       "2  SCIENTIFIC MOORINGS, TOP FLOAT 29 METERS, ESTA...  NAVAREA XVII   \n",
       "3  SCIENTIFIC MOORING, TOP FLOAT 971 FEET, ESTABL...     CGC HEALY   \n",
       "4  DNC 27. SCIENTIFIC MOORING ESTABLISHED VICINIT...  NAVAREA XVII   \n",
       "\n",
       "             Date  StartDate    EndDate BroadcastingDate GeometryType  \\\n",
       "0  No date listed 2018-06-01 2018-06-01       2018-06-01        Point   \n",
       "1  No date listed 2018-06-01 2018-06-01       2018-06-01        Point   \n",
       "2  No date listed 2018-06-01 2018-06-01       2018-06-01        Point   \n",
       "3  No date listed 2018-06-01 2018-06-01       2018-06-01        Point   \n",
       "4  No date listed 2018-06-01 2018-06-01       2018-06-01        Point   \n",
       "\n",
       "                                    geometry                      Coordinates  \\\n",
       "0  POINT Z (-127.688834 70.55800000000001 0)     [(-127.688834, 70.558, 0.0)]   \n",
       "1               POINT Z (-133.714 70.0585 0)       [(-133.714, 70.0585, 0.0)]   \n",
       "2            POINT Z (-133.717167 70.0585 0)    [(-133.717167, 70.0585, 0.0)]   \n",
       "3            POINT Z (-158.410434 72.7996 0)    [(-158.410434, 72.7996, 0.0)]   \n",
       "4          POINT Z (-158.702167 72.615167 0)  [(-158.702167, 72.615167, 0.0)]   \n",
       "\n",
       "                                centroid  lon_centroid  lat_centroid  \n",
       "0  POINT (-127.688834 70.55800000000001)   -127.688834     70.558000  \n",
       "1               POINT (-133.714 70.0585)   -133.714000     70.058500  \n",
       "2            POINT (-133.717167 70.0585)   -133.717167     70.058500  \n",
       "3            POINT (-158.410434 72.7996)   -158.410434     72.799600  \n",
       "4          POINT (-158.702167 72.615167)   -158.702167     72.615167  "
      ]
     },
     "execution_count": 64,
     "metadata": {},
     "output_type": "execute_result"
    }
   ],
   "source": [
    "gdf.head()"
   ]
  },
  {
   "cell_type": "code",
   "execution_count": 28,
   "metadata": {},
   "outputs": [],
   "source": [
    "# Let's look at distribution of daily events\n",
    "\n",
    "df_daily_start = gdf.groupby('StartDate').count()[['Area']].rename(columns={'Area': 'count'})\n",
    "df_daily_broadcast = gdf.groupby('BroadcastingDate').count()[['Area']].rename(columns={'Area': 'count'})"
   ]
  },
  {
   "cell_type": "code",
   "execution_count": null,
   "metadata": {},
   "outputs": [],
   "source": [
    "df_daily_start.describe()"
   ]
  },
  {
   "cell_type": "code",
   "execution_count": 29,
   "metadata": {},
   "outputs": [
    {
     "data": {
      "text/plain": [
       "<matplotlib.collections.PathCollection at 0x12db23f10>"
      ]
     },
     "execution_count": 29,
     "metadata": {},
     "output_type": "execute_result"
    },
    {
     "data": {
      "image/png": "[encoded data removed]",
      "text/plain": [
       "<Figure size 432x288 with 1 Axes>"
      ]
     },
     "metadata": {
      "needs_background": "light"
     },
     "output_type": "display_data"
    }
   ],
   "source": [
    "plt.scatter(df_daily_broadcast.index, df_daily_broadcast['count'])"
   ]
  },
  {
   "cell_type": "code",
   "execution_count": 36,
   "metadata": {},
   "outputs": [],
   "source": [
    "def plotDailyFigures(df):\n",
    "    plt.figure(figsize=(10,10))\n",
    "    plt.subplot(2,1,1)\n",
    "    plt.scatter(df.index, df['count'])\n",
    "    plt.subplot(2,1,2)\n",
    "    plt.hist(df['count'], bins=15)"
   ]
  },
  {
   "cell_type": "code",
   "execution_count": 37,
   "metadata": {},
   "outputs": [
    {
     "data": {
      "image/png": "[encoded data removed]",
      "text/plain": [
       "<Figure size 720x720 with 2 Axes>"
      ]
     },
     "metadata": {
      "needs_background": "light"
     },
     "output_type": "display_data"
    }
   ],
   "source": [
    "plotDailyFigures(df_daily_broadcast)"
   ]
  },
  {
   "cell_type": "code",
   "execution_count": 38,
   "metadata": {},
   "outputs": [
    {
     "data": {
      "image/png": "[encoded data removed]",
      "text/plain": [
       "<Figure size 720x720 with 2 Axes>"
      ]
     },
     "metadata": {
      "needs_background": "light"
     },
     "output_type": "display_data"
    }
   ],
   "source": [
    "plotDailyFigures(df_daily_start)"
   ]
  },
  {
   "cell_type": "code",
   "execution_count": 74,
   "metadata": {},
   "outputs": [
    {
     "data": {
      "text/plain": [
       "<matplotlib.axes._subplots.AxesSubplot at 0x136a12890>"
      ]
     },
     "execution_count": 74,
     "metadata": {},
     "output_type": "execute_result"
    },
    {
     "data": {
      "image/png": "[encoded data removed]",
      "text/plain": [
       "<Figure size 432x288 with 1 Axes>"
      ]
     },
     "metadata": {
      "needs_background": "light"
     },
     "output_type": "display_data"
    }
   ],
   "source": [
    "pd.plotting.lag_plot(df_daily_broadcast, lag=12)"
   ]
  },
  {
   "cell_type": "code",
   "execution_count": 78,
   "metadata": {},
   "outputs": [
    {
     "data": {
      "text/plain": [
       "0.19343089477775352"
      ]
     },
     "execution_count": 78,
     "metadata": {},
     "output_type": "execute_result"
    }
   ],
   "source": [
    "df_autocorrelation = pd.DataFrame(columns=['']) \n",
    "for lag in range(50):\n",
    "    df_daily_broadcast['count'].autocorr(lag=lag)"
   ]
  },
  {
   "cell_type": "code",
   "execution_count": 80,
   "metadata": {},
   "outputs": [
    {
     "data": {
      "text/plain": [
       "list"
      ]
     },
     "execution_count": 80,
     "metadata": {},
     "output_type": "execute_result"
    }
   ],
   "source": []
  },
  {
   "cell_type": "code",
   "execution_count": 55,
   "metadata": {},
   "outputs": [
    {
     "data": {
      "text/html": [
       "<div>\n",
       "<style scoped>\n",
       "    .dataframe tbody tr th:only-of-type {\n",
       "        vertical-align: middle;\n",
       "    }\n",
       "\n",
       "    .dataframe tbody tr th {\n",
       "        vertical-align: top;\n",
       "    }\n",
       "\n",
       "    .dataframe thead th {\n",
       "        text-align: right;\n",
       "    }\n",
       "</style>\n",
       "<table border=\"1\" class=\"dataframe\">\n",
       "  <thead>\n",
       "    <tr style=\"text-align: right;\">\n",
       "      <th></th>\n",
       "      <th>Area</th>\n",
       "      <th>Chart</th>\n",
       "      <th>Message</th>\n",
       "      <th>Authority</th>\n",
       "      <th>Date</th>\n",
       "      <th>StartDate</th>\n",
       "      <th>EndDate</th>\n",
       "      <th>BroadcastingDate</th>\n",
       "      <th>GeometryType</th>\n",
       "      <th>geometry</th>\n",
       "      <th>Coordinates</th>\n",
       "      <th>centroid</th>\n",
       "      <th>lon_centroid</th>\n",
       "      <th>lat_centroid</th>\n",
       "    </tr>\n",
       "  </thead>\n",
       "  <tbody>\n",
       "    <tr>\n",
       "      <th>0</th>\n",
       "      <td>CANADA-NORTH COAST.  /BEAUFORT SEA.</td>\n",
       "      <td>15940</td>\n",
       "      <td>BOTTOM SCIENTIFIC MOORING EXTENDING 3.5 METERS...</td>\n",
       "      <td>NAVAREA XVII</td>\n",
       "      <td>No date listed</td>\n",
       "      <td>2018-06-01</td>\n",
       "      <td>2018-06-01</td>\n",
       "      <td>2018-06-01</td>\n",
       "      <td>Point</td>\n",
       "      <td>POINT Z (-127.688834 70.55800000000001 0)</td>\n",
       "      <td>[(-127.688834, 70.558, 0.0)]</td>\n",
       "      <td>POINT (-127.688834 70.55800000000001)</td>\n",
       "      <td>-127.688834</td>\n",
       "      <td>70.558</td>\n",
       "    </tr>\n",
       "    <tr>\n",
       "      <th>1</th>\n",
       "      <td>ARCTIC. /BEAUFORT SEA.</td>\n",
       "      <td>15945</td>\n",
       "      <td>SCIENTIFIC MOORINGS, TOP FLOAT 29 METERS, ESTA...</td>\n",
       "      <td>NAVAREA XVII</td>\n",
       "      <td>No date listed</td>\n",
       "      <td>2018-06-01</td>\n",
       "      <td>2018-06-01</td>\n",
       "      <td>2018-06-01</td>\n",
       "      <td>Point</td>\n",
       "      <td>POINT Z (-127.688834 70.55800000000001 0)</td>\n",
       "      <td>[(-133.714, 70.0585, 0.0)]</td>\n",
       "      <td>POINT (-127.688834 70.55800000000001)</td>\n",
       "      <td>-127.688834</td>\n",
       "      <td>70.558</td>\n",
       "    </tr>\n",
       "    <tr>\n",
       "      <th>2</th>\n",
       "      <td>ARCTIC. /BEAUFORT SEA.</td>\n",
       "      <td>15945</td>\n",
       "      <td>SCIENTIFIC MOORINGS, TOP FLOAT 29 METERS, ESTA...</td>\n",
       "      <td>NAVAREA XVII</td>\n",
       "      <td>No date listed</td>\n",
       "      <td>2018-06-01</td>\n",
       "      <td>2018-06-01</td>\n",
       "      <td>2018-06-01</td>\n",
       "      <td>Point</td>\n",
       "      <td>POINT Z (-127.688834 70.55800000000001 0)</td>\n",
       "      <td>[(-133.717167, 70.0585, 0.0)]</td>\n",
       "      <td>POINT (-127.688834 70.55800000000001)</td>\n",
       "      <td>-127.688834</td>\n",
       "      <td>70.558</td>\n",
       "    </tr>\n",
       "    <tr>\n",
       "      <th>3</th>\n",
       "      <td>ARCTIC./CHUCKCHI SEA.</td>\n",
       "      <td>16003</td>\n",
       "      <td>SCIENTIFIC MOORING, TOP FLOAT 971 FEET, ESTABL...</td>\n",
       "      <td>CGC HEALY</td>\n",
       "      <td>No date listed</td>\n",
       "      <td>2018-06-01</td>\n",
       "      <td>2018-06-01</td>\n",
       "      <td>2018-06-01</td>\n",
       "      <td>Point</td>\n",
       "      <td>POINT Z (-127.688834 70.55800000000001 0)</td>\n",
       "      <td>[(-158.410434, 72.7996, 0.0)]</td>\n",
       "      <td>POINT (-127.688834 70.55800000000001)</td>\n",
       "      <td>-127.688834</td>\n",
       "      <td>70.558</td>\n",
       "    </tr>\n",
       "    <tr>\n",
       "      <th>4</th>\n",
       "      <td>ARCTIC./CHUKCHI SEA.</td>\n",
       "      <td>16003.</td>\n",
       "      <td>DNC 27. SCIENTIFIC MOORING ESTABLISHED VICINIT...</td>\n",
       "      <td>NAVAREA XVII</td>\n",
       "      <td>No date listed</td>\n",
       "      <td>2018-06-01</td>\n",
       "      <td>2018-06-01</td>\n",
       "      <td>2018-06-01</td>\n",
       "      <td>Point</td>\n",
       "      <td>POINT Z (-127.688834 70.55800000000001 0)</td>\n",
       "      <td>[(-158.702167, 72.615167, 0.0)]</td>\n",
       "      <td>POINT (-127.688834 70.55800000000001)</td>\n",
       "      <td>-127.688834</td>\n",
       "      <td>70.558</td>\n",
       "    </tr>\n",
       "  </tbody>\n",
       "</table>\n",
       "</div>"
      ],
      "text/plain": [
       "                                   Area   Chart  \\\n",
       "0  CANADA-NORTH COAST.  /BEAUFORT SEA.    15940   \n",
       "1               ARCTIC. /BEAUFORT SEA.    15945   \n",
       "2               ARCTIC. /BEAUFORT SEA.    15945   \n",
       "3                 ARCTIC./CHUCKCHI SEA.   16003   \n",
       "4                  ARCTIC./CHUKCHI SEA.  16003.   \n",
       "\n",
       "                                             Message     Authority  \\\n",
       "0  BOTTOM SCIENTIFIC MOORING EXTENDING 3.5 METERS...  NAVAREA XVII   \n",
       "1  SCIENTIFIC MOORINGS, TOP FLOAT 29 METERS, ESTA...  NAVAREA XVII   \n",
       "2  SCIENTIFIC MOORINGS, TOP FLOAT 29 METERS, ESTA...  NAVAREA XVII   \n",
       "3  SCIENTIFIC MOORING, TOP FLOAT 971 FEET, ESTABL...     CGC HEALY   \n",
       "4  DNC 27. SCIENTIFIC MOORING ESTABLISHED VICINIT...  NAVAREA XVII   \n",
       "\n",
       "             Date  StartDate    EndDate BroadcastingDate GeometryType  \\\n",
       "0  No date listed 2018-06-01 2018-06-01       2018-06-01        Point   \n",
       "1  No date listed 2018-06-01 2018-06-01       2018-06-01        Point   \n",
       "2  No date listed 2018-06-01 2018-06-01       2018-06-01        Point   \n",
       "3  No date listed 2018-06-01 2018-06-01       2018-06-01        Point   \n",
       "4  No date listed 2018-06-01 2018-06-01       2018-06-01        Point   \n",
       "\n",
       "                                    geometry                      Coordinates  \\\n",
       "0  POINT Z (-127.688834 70.55800000000001 0)     [(-127.688834, 70.558, 0.0)]   \n",
       "1  POINT Z (-127.688834 70.55800000000001 0)       [(-133.714, 70.0585, 0.0)]   \n",
       "2  POINT Z (-127.688834 70.55800000000001 0)    [(-133.717167, 70.0585, 0.0)]   \n",
       "3  POINT Z (-127.688834 70.55800000000001 0)    [(-158.410434, 72.7996, 0.0)]   \n",
       "4  POINT Z (-127.688834 70.55800000000001 0)  [(-158.702167, 72.615167, 0.0)]   \n",
       "\n",
       "                                centroid  lon_centroid  lat_centroid  \n",
       "0  POINT (-127.688834 70.55800000000001)   -127.688834        70.558  \n",
       "1  POINT (-127.688834 70.55800000000001)   -127.688834        70.558  \n",
       "2  POINT (-127.688834 70.55800000000001)   -127.688834        70.558  \n",
       "3  POINT (-127.688834 70.55800000000001)   -127.688834        70.558  \n",
       "4  POINT (-127.688834 70.55800000000001)   -127.688834        70.558  "
      ]
     },
     "execution_count": 55,
     "metadata": {},
     "output_type": "execute_result"
    }
   ],
   "source": [
    "gdf.head()"
   ]
  },
  {
   "cell_type": "code",
   "execution_count": null,
   "metadata": {},
   "outputs": [],
   "source": []
  }
 ],
 "metadata": {
  "kernelspec": {
   "display_name": "Python 2",
   "language": "python",
   "name": "python2"
  },
  "language_info": {
   "codemirror_mode": {
    "name": "ipython",
    "version": 2
   },
   "file_extension": ".py",
   "mimetype": "text/x-python",
   "name": "python",
   "nbconvert_exporter": "python",
   "pygments_lexer": "ipython2",
   "version": "2.7.15"
  }
 },
 "nbformat": 4,
 "nbformat_minor": 2
}
