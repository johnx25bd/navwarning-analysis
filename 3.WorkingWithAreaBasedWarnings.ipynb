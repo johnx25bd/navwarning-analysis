{
 "cells": [
  {
   "cell_type": "code",
   "execution_count": 1,
   "metadata": {},
   "outputs": [],
   "source": [
    "import pandas as pd\n",
    "import numpy as np\n",
    "import geopandas as gpd\n",
    "import matplotlib.pyplot as plt\n",
    "import re\n",
    "import os\n",
    "import time\n",
    "from shapely.geometry import Point, Polygon, LineString,MultiPolygon\n",
    "from shapely.ops import unary_union"
   ]
  },
  {
   "cell_type": "code",
   "execution_count": 2,
   "metadata": {},
   "outputs": [],
   "source": [
    "# Reading in the area-separating-indices created in 2.AreaBasedWarnings.ipynb\n",
    "\n",
    "directory = 'AreaIndices/'\n",
    "i = 0\n",
    "areaIndices = {}\n",
    "for filename in os.listdir(directory):\n",
    "    with open(directory+filename,'r') as textfile:\n",
    "        obs = textfile.readlines()\n",
    "        obs = [int(re.sub('\\n','',i)) for i in obs]\n",
    "        name = re.sub('.txt','',filename)\n",
    "        areaIndices[name] = obs\n",
    "worldSeas = gpd.read_file('World_Seas_IHO_v3/World_Seas_IHO_v3.shp')"
   ]
  },
  {
   "cell_type": "code",
   "execution_count": 3,
   "metadata": {},
   "outputs": [],
   "source": [
    "# Reading in the cleaned data\n",
    "messages = pd.read_csv('CleanedData.csv',index_col=0)\n",
    "geoMessages = gpd.GeoDataFrame(messages)\n",
    "\n",
    "# Making sure that the dataframe eventually will have a 'valid' geometry column \n",
    "geometryList = []\n",
    "for i,(shape,geom) in enumerate(zip(geoMessages.GeometryType,geoMessages.Coordinates)):\n",
    "    \n",
    "    if shape == 'Point':\n",
    "        coor = []\n",
    "        ele = geom.split()\n",
    "        ele = [float(re.sub('[](),[]','',i)) for i in ele]\n",
    "\n",
    "        coor.append(tuple(ele))\n",
    "        geo = Point(coor)\n",
    "        geometryList.append(geo)\n",
    "        \n",
    "    elif shape == 'GeometryCollection':\n",
    "        \n",
    "        coor = []\n",
    "        ele = geom.split()\n",
    "        ele = [float(re.sub('[](),[]','',i)) for i in ele]\n",
    "        \n",
    "        tupleCoor = [tuple(ele[i:i+3]) for i in np.arange(0,len(ele),3)]\n",
    "        if i == 4956 or i == 5681 or i == 1037:\n",
    "            # Necessary because the three observations are LineStrings, or closer to linestrings than polygons.\n",
    "            geo = LineString(tupleCoor)\n",
    "        else:\n",
    "            geo = Polygon(tupleCoor)\n",
    "        geometryList.append(geo)"
   ]
  },
  {
   "cell_type": "code",
   "execution_count": 4,
   "metadata": {},
   "outputs": [
    {
     "name": "stdout",
     "output_type": "stream",
     "text": [
      "This is the areas imported dict_keys(['hydroArc', 'hydroLant', 'hydroPac', 'navareaIV', 'navareaXII'])\n"
     ]
    }
   ],
   "source": [
    "# Storing the geometries in something we can work with.\n",
    "geometryFrame = gpd.GeoDataFrame(geometry=geometryList,crs=worldSeas.crs)\n",
    "\n",
    "# Storing the centroids\n",
    "geometryFrame['Centroids']=geometryFrame.centroid\n",
    "\n",
    "# Creating a reduced dataframe based on the unique coordinates\n",
    "reducedCentroidCoordinates = geometryFrame['Centroids'].drop_duplicates()\n",
    "# Creating the reduced geometry and message dataframe\n",
    "reducedGeometryFrame = geometryFrame.loc[reducedCentroidCoordinates.index]\n",
    "reducedGeometryFrame = reducedGeometryFrame.reset_index(drop=True)\n",
    "reducedGeoMessages = geoMessages.loc[reducedCentroidCoordinates.index]\n",
    "reducedGeoMessages = reducedGeoMessages.reset_index(drop=True)\n",
    "# Setting the geometry of the reduced-messages-dataframe\n",
    "reducedGeoMessages['geometry'] = reducedGeometryFrame['geometry']\n",
    "reducedGeoMessages['Centroids'] = reducedGeometryFrame['Centroids']\n",
    "reducedGeoMessages.geometry = reducedGeoMessages['geometry']\n",
    "reducedGeoMessages.crs = worldSeas.crs\n",
    "print('This is the areas imported',areaIndices.keys())"
   ]
  },
  {
   "cell_type": "code",
   "execution_count": 6,
   "metadata": {},
   "outputs": [],
   "source": [
    "avaliableAreas = list(areaIndices.keys())\n",
    "area0 = reducedGeoMessages.loc[areaIndices[avaliableAreas[0]]]\n",
    "area1 = reducedGeoMessages.loc[areaIndices[avaliableAreas[1]]]\n",
    "area2 = reducedGeoMessages.loc[areaIndices[avaliableAreas[2]]]\n",
    "area3 = reducedGeoMessages.loc[areaIndices[avaliableAreas[3]]]\n",
    "area4 = reducedGeoMessages.loc[areaIndices[avaliableAreas[4]]]"
   ]
  },
  {
   "cell_type": "markdown",
   "metadata": {},
   "source": [
    "If one needs to work with all the data, the below is necessary to execute, otherwise just use the above."
   ]
  },
  {
   "cell_type": "code",
   "execution_count": 7,
   "metadata": {},
   "outputs": [],
   "source": [
    "# Updating the georeferenced messages with correct geometries\n",
    "geoMessages['geometry'] = geometryFrame['geometry']\n",
    "geoMessages['Centroids'] = geometryFrame['Centroids']\n",
    "geoMessages.geometry = geoMessages['geometry']\n",
    "geoMessages.crs = worldSeas.crs\n",
    "\n",
    "# Creating a column in the full and the reduced datasset, which is mergable.\n",
    "geometryFrame['CentroidCoor'] = [list(geometryFrame['Centroids'].loc[obs].coords)[0] for obs in geometryFrame.index]\n",
    "reducedGeometryFrame['CentroidCoor'] = [list(reducedGeometryFrame['Centroids'].loc[obs].coords)[0] for obs in reducedGeometryFrame.index]\n",
    "\n",
    "# Extracting all the subarea-tags\n",
    "area = []\n",
    "for obs in reducedGeometryFrame.index:\n",
    "    area.append([i for i,subarea in enumerate(areaIndices.keys()) if obs in areaIndices[subarea]][0])\n",
    "reducedGeometryFrame['Subarea'] = area\n",
    "\n",
    "# Merging the reduced dataset, with subarea-tags, onto the fulldataset.\n",
    "mergedCentroids = pd.merge(geometryFrame,reducedGeometryFrame,on=['CentroidCoor'],how='inner')"
   ]
  },
  {
   "cell_type": "code",
   "execution_count": 13,
   "metadata": {},
   "outputs": [],
   "source": [
    "subareasMessages = {subarea : mergedCentroids[mergedCentroids['Subarea_y']==i].shape[0] for i,subarea in enumerate(areaIndices.keys())}"
   ]
  },
  {
   "cell_type": "code",
   "execution_count": 14,
   "metadata": {},
   "outputs": [
    {
     "data": {
      "text/plain": [
       "{'hydroArc': 6270,\n",
       " 'hydroLant': 3510,\n",
       " 'hydroPac': 12455,\n",
       " 'navareaIV': 25228,\n",
       " 'navareaXII': 6569}"
      ]
     },
     "execution_count": 14,
     "metadata": {},
     "output_type": "execute_result"
    }
   ],
   "source": [
    "subareasMessages"
   ]
  },
  {
   "cell_type": "code",
   "execution_count": 15,
   "metadata": {},
   "outputs": [
    {
     "data": {
      "text/plain": [
       "54032"
      ]
     },
     "execution_count": 15,
     "metadata": {},
     "output_type": "execute_result"
    }
   ],
   "source": [
    "sum(subareasMessages.values())"
   ]
  },
  {
   "cell_type": "code",
   "execution_count": 16,
   "metadata": {},
   "outputs": [
    {
     "data": {
      "text/plain": [
       "(53956, 12)"
      ]
     },
     "execution_count": 16,
     "metadata": {},
     "output_type": "execute_result"
    }
   ],
   "source": [
    "messages.shape"
   ]
  },
  {
   "cell_type": "code",
   "execution_count": 17,
   "metadata": {},
   "outputs": [
    {
     "data": {
      "text/plain": [
       "(53956, 12)"
      ]
     },
     "execution_count": 17,
     "metadata": {},
     "output_type": "execute_result"
    }
   ],
   "source": [
    "geoMessages.shape"
   ]
  },
  {
   "cell_type": "code",
   "execution_count": 18,
   "metadata": {},
   "outputs": [
    {
     "data": {
      "text/plain": [
       "(54032, 7)"
      ]
     },
     "execution_count": 18,
     "metadata": {},
     "output_type": "execute_result"
    }
   ],
   "source": [
    "mergedCentroids.shape\n"
   ]
  },
  {
   "cell_type": "code",
   "execution_count": null,
   "metadata": {},
   "outputs": [],
   "source": []
  }
 ],
 "metadata": {
  "kernelspec": {
   "display_name": "Python 3",
   "language": "python",
   "name": "python3"
  },
  "language_info": {
   "codemirror_mode": {
    "name": "ipython",
    "version": 3
   },
   "file_extension": ".py",
   "mimetype": "text/x-python",
   "name": "python",
   "nbconvert_exporter": "python",
   "pygments_lexer": "ipython3",
   "version": "3.6.4"
  }
 },
 "nbformat": 4,
 "nbformat_minor": 2
}
