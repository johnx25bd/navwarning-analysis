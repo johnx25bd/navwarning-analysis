{
 "cells": [
  {
   "cell_type": "code",
   "execution_count": null,
   "metadata": {},
   "outputs": [],
   "source": [
    "# Things to do\n",
    "\n",
    "# Calculate appropriate exploratory statistics for each dimension\n",
    "#     Temporal\n",
    "#         Range\n",
    "#         Frequency \n",
    "#             Distribution\n",
    "#             Mean\n",
    "#             Geometric mean?\n",
    "#             Median\n",
    "#             Standard deviation\n",
    "#         Outliers / justify exclusion\n",
    "        \n",
    "#     Spatial\n",
    "#         Range\n",
    "#         for X and Y\n",
    "#             Distribution\n",
    "#             Mean\n",
    "#             Geometric mean?\n",
    "#             Median\n",
    "#             Standard deviation\n",
    "#         Outliers / invalid points\n",
    "#         Comments about different geometry types?\n",
    "\n",
    "# Do this for global dataset, and each geographic area"
   ]
  },
  {
   "cell_type": "code",
   "execution_count": 1,
   "metadata": {},
   "outputs": [],
   "source": [
    "import pandas as pd\n",
    "from matplotlib import pyplot as plt\n",
    "from statsmodels.graphics.tsaplots import plot_acf\n",
    "from statsmodels.graphics.tsaplots import plot_pacf\n",
    "import numpy as np\n",
    "import shapely\n",
    "import geopandas as gpd"
   ]
  },
  {
   "cell_type": "code",
   "execution_count": 2,
   "metadata": {},
   "outputs": [],
   "source": [
    "def convertGeometries(df):\n",
    "    for i in list(df.index):\n",
    "        geom_type = df.loc[i, 'GeometryType']\n",
    "        geom = None\n",
    "        if geom_type == 'Point':\n",
    "            geom =shapely.geometry.Point(df.loc[i,'Coordinates'])\n",
    "        elif geom_type == 'GeometryCollection':\n",
    "            if df.loc[i,'Coordinates'][0] == df.loc[i,'Coordinates'][-1]:\n",
    "                geom = shapely.geometry.Polygon(df.loc[i,'Coordinates'])\n",
    "            else:\n",
    "                geom = shapely.geometry.LineString(df.loc[i,'Coordinates'])\n",
    "        df.loc[i, 'geometry'] = geom"
   ]
  },
  {
   "cell_type": "code",
   "execution_count": 3,
   "metadata": {},
   "outputs": [],
   "source": [
    "df = pd.read_csv('https://raw.githubusercontent.com/robisoniv/navwarning-analysis/master/CleanedData.csv')\n",
    "df = df.sample(frac=0.05)\n",
    "df = df.drop(columns=['Unnamed: 0'])\n",
    "df['StartDate'] = pd.to_datetime(df['StartDate'])\n",
    "df['EndDate'] = pd.to_datetime(df['EndDate'])\n",
    "df['BroadcastingDate'] = pd.to_datetime(df['BroadcastingDate'])\n",
    "df['Coordinates'] = df['Coordinates'].apply(lambda c: eval(c))\n",
    "convertGeometries(df)"
   ]
  },
  {
   "cell_type": "code",
   "execution_count": 4,
   "metadata": {},
   "outputs": [],
   "source": [
    "gdf = gpd.GeoDataFrame(df)\n",
    "gdf['centroid'] = gdf['geometry'].centroid\n",
    "\n",
    "for i in list(gdf.index):\n",
    "    gdf.loc[i, 'lon_centroid'] = list(gdf.loc[i, 'centroid'].coords[0])[0]\n",
    "    gdf.loc[i, 'lat_centroid'] = list(gdf.loc[i, 'centroid'].coords[0])[1]"
   ]
  },
  {
   "cell_type": "code",
   "execution_count": 45,
   "metadata": {},
   "outputs": [],
   "source": [
    "# Temporal Summary\n",
    "def calcTemporalSummaryStats(df, key, print_results=True):\n",
    "    df_tmp = df.groupby(key).count()[['Area']].rename(columns={'Area': 'count'})\n",
    "    temporal_range = (df[key].min(), df[key].max())\n",
    "    temporal_mean = df_tmp['count'].mean()\n",
    "    temporal_std = df_tmp['count'].std()\n",
    "    temporal_median = df_tmp['count'].median()\n",
    "    temporal_summary = {\n",
    "        \"range\": temporal_range,\n",
    "        \"mean\": temporal_mean,\n",
    "        \"std\": temporal_std,\n",
    "        \"median\": temporal_median\n",
    "    }\n",
    "    \n",
    "    if print_results:\n",
    "        print(\"Temporal range - from\", temporal_range[0], 'to', temporal_range[1])\n",
    "        print(\"Temporal mean:\", temporal_mean )\n",
    "        print(\"Temporal std:\", temporal_std )\n",
    "        print(\"Temporal median:\", temporal_median )\n",
    "    \n",
    "    return temporal_summary"
   ]
  },
  {
   "cell_type": "code",
   "execution_count": 46,
   "metadata": {},
   "outputs": [
    {
     "name": "stdout",
     "output_type": "stream",
     "text": [
      "Temporal range - from 2018-06-01 00:00:00 to 2018-10-05 00:00:00\n",
      "Temporal mean: 35.5\n",
      "Temporal std: 6.911825615084146\n",
      "Temporal median: 35.0\n"
     ]
    },
    {
     "data": {
      "text/plain": [
       "{'range': (Timestamp('2018-06-01 00:00:00'), Timestamp('2018-10-05 00:00:00')),\n",
       " 'mean': 35.5,\n",
       " 'std': 6.911825615084146,\n",
       " 'median': 35.0}"
      ]
     },
     "execution_count": 46,
     "metadata": {},
     "output_type": "execute_result"
    }
   ],
   "source": [
    "calcTemporalSummaryStats(gdf, 'BroadcastingDate')"
   ]
  },
  {
   "cell_type": "code",
   "execution_count": 51,
   "metadata": {},
   "outputs": [],
   "source": [
    "# Spatial Summary\n",
    "def calcSpatialSummaryStats(gdf, print_results=True):\n",
    "    spatial_summary = gdf.describe()\n",
    "    gdf.plot(figsize=(10,15))\n",
    "    \n",
    "    if print_results:\n",
    "        print(spatial_summary)\n",
    "        \n",
    "    return spatial_summary"
   ]
  },
  {
   "cell_type": "code",
   "execution_count": 52,
   "metadata": {},
   "outputs": [
    {
     "name": "stdout",
     "output_type": "stream",
     "text": [
      "       lon_centroid  lat_centroid\n",
      "count   2698.000000   2698.000000\n",
      "mean      -5.065617     23.560307\n",
      "std       86.854984     29.848330\n",
      "min     -179.106667    -67.650000\n",
      "25%      -64.587080      8.300834\n",
      "50%       -8.240838     19.478167\n",
      "75%       70.775542     44.859133\n",
      "max      178.661723     82.235508\n"
     ]
    },
    {
     "data": {
      "image/png": "[encoded data removed]",
      "text/plain": [
       "<Figure size 720x1080 with 1 Axes>"
      ]
     },
     "metadata": {
      "needs_background": "light"
     },
     "output_type": "display_data"
    }
   ],
   "source": [
    "spatial_summary =  calcSpatialSummaryStats(gdf)"
   ]
  },
  {
   "cell_type": "code",
   "execution_count": null,
   "metadata": {},
   "outputs": [],
   "source": []
  },
  {
   "cell_type": "code",
   "execution_count": null,
   "metadata": {},
   "outputs": [],
   "source": []
  },
  {
   "cell_type": "code",
   "execution_count": null,
   "metadata": {},
   "outputs": [],
   "source": []
  }
 ],
 "metadata": {
  "kernelspec": {
   "display_name": "Python 3",
   "language": "python",
   "name": "python3"
  },
  "language_info": {
   "codemirror_mode": {
    "name": "ipython",
    "version": 3
   },
   "file_extension": ".py",
   "mimetype": "text/x-python",
   "name": "python",
   "nbconvert_exporter": "python",
   "pygments_lexer": "ipython3",
   "version": "3.6.7"
  }
 },
 "nbformat": 4,
 "nbformat_minor": 2
}
