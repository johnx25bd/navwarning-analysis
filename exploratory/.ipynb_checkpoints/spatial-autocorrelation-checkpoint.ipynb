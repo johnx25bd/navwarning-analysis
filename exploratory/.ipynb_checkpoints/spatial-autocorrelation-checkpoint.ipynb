{
 "cells": [
  {
   "cell_type": "code",
   "execution_count": 10,
   "metadata": {},
   "outputs": [],
   "source": [
    "import matplotlib.pyplot as plt\n",
    "import pysal\n",
    "import pandas as pd\n",
    "import shapely\n",
    "import geopandas as gpd"
   ]
  },
  {
   "cell_type": "code",
   "execution_count": 4,
   "metadata": {},
   "outputs": [],
   "source": [
    "def convertGeometries(df):\n",
    "    for i in list(df.index):\n",
    "        geom_type = df.loc[i, 'GeometryType']\n",
    "        geom = None\n",
    "        if geom_type == 'Point':\n",
    "            geom =shapely.geometry.Point(df.loc[i,'Coordinates'])\n",
    "        elif geom_type == 'GeometryCollection':\n",
    "            if df.loc[i,'Coordinates'][0] == df.loc[i,'Coordinates'][-1]:\n",
    "                geom = shapely.geometry.Polygon(df.loc[i,'Coordinates'])\n",
    "            else:\n",
    "                geom = shapely.geometry.LineString(df.loc[i,'Coordinates'])\n",
    "        df.loc[i, 'geometry'] = geom"
   ]
  },
  {
   "cell_type": "code",
   "execution_count": 5,
   "metadata": {},
   "outputs": [],
   "source": [
    "df = pd.read_csv('https://raw.githubusercontent.com/robisoniv/navwarning-analysis/master/CleanedData.csv')\n",
    "# df = df.sample(frac=0.05)\n",
    "df = df.drop(columns=['Unnamed: 0'])\n",
    "df['StartDate'] = pd.to_datetime(df['StartDate'])\n",
    "df['EndDate'] = pd.to_datetime(df['EndDate'])\n",
    "df['BroadcastingDate'] = pd.to_datetime(df['BroadcastingDate'])\n",
    "df['Coordinates'] = df['Coordinates'].apply(lambda c: eval(c))\n",
    "convertGeometries(df)"
   ]
  },
  {
   "cell_type": "code",
   "execution_count": null,
   "metadata": {},
   "outputs": [],
   "source": [
    "df_sample = df.sample(n=100)"
   ]
  },
  {
   "cell_type": "code",
   "execution_count": 11,
   "metadata": {},
   "outputs": [],
   "source": [
    "gdf = gpd.GeoDataFrame(df_sample)\n",
    "gdf['centroid'] = gdf['geometry'].centroid\n",
    "\n",
    "for i in list(gdf.index):\n",
    "    gdf.loc[i, 'lon_centroid'] = list(gdf.loc[i, 'centroid'].coords[0])[0]\n",
    "    gdf.loc[i, 'lat_centroid'] = list(gdf.loc[i, 'centroid'].coords[0])[1]"
   ]
  },
  {
   "cell_type": "code",
   "execution_count": 76,
   "metadata": {},
   "outputs": [],
   "source": [
    "pts = gdf[['lon_centroid', 'lat_centroid']].values"
   ]
  },
  {
   "cell_type": "code",
   "execution_count": 77,
   "metadata": {},
   "outputs": [],
   "source": [
    "# Generate the W object\n",
    "# https://pysal.readthedocs.io/en/latest/generated/pysal.lib.weights.KNN.html#pysal.lib.weights.KNN\n",
    "\n",
    "kd = pysal.lib.cg.kdtree.KDTree(pts)\n",
    "wnn = pysal.lib.weights.KNN(kd, 10)"
   ]
  },
  {
   "cell_type": "code",
   "execution_count": 78,
   "metadata": {},
   "outputs": [],
   "source": [
    "# Instantiate an array indicating the presence of each point\n",
    "# This is because we don't have a variable associated with each point\n",
    "\n",
    "y = np.ones(len(wnn.weights))"
   ]
  },
  {
   "cell_type": "code",
   "execution_count": 89,
   "metadata": {},
   "outputs": [],
   "source": [
    "mi = pysal.explore.esda.moran.Moran(y, wnn)\n",
    "gc = pysal.explore.esda.geary.Geary(y, wnn)"
   ]
  },
  {
   "cell_type": "code",
   "execution_count": 90,
   "metadata": {},
   "outputs": [
    {
     "name": "stdout",
     "output_type": "stream",
     "text": [
      "Moran's I:\t\t nan\n",
      "Moran's I p:\t\t nan\n",
      "Geary's C:\t\t nan\n",
      "Geary's C p:\t\t nan\n"
     ]
    }
   ],
   "source": [
    "print(\"Moran's I:\\t\\t\", mi.I)\n",
    "print(\"Moran's I p:\\t\\t\", mi.p_norm)\n",
    "print(\"Geary's C:\\t\\t\", gc.C)\n",
    "print(\"Geary's C p:\\t\\t\", gc.p_norm)"
   ]
  },
  {
   "cell_type": "code",
   "execution_count": null,
   "metadata": {},
   "outputs": [],
   "source": [
    "# Questions\n",
    "# What am I doing wrong?\n",
    "# Is my y array wrong? \n",
    "# Maybe I'm using the wrong number of neighbors in the KNN?"
   ]
  },
  {
   "cell_type": "code",
   "execution_count": null,
   "metadata": {},
   "outputs": [],
   "source": []
  },
  {
   "cell_type": "code",
   "execution_count": null,
   "metadata": {},
   "outputs": [],
   "source": []
  },
  {
   "cell_type": "code",
   "execution_count": 85,
   "metadata": {},
   "outputs": [],
   "source": [
    "# Example from https://pysal.readthedocs.io/en/latest/generated/pysal.explore.esda.Moran.html#pysal.explore.esda.Moran\n",
    "\n",
    "import pysal.lib\n",
    "import numpy as np\n",
    "w_ex = pysal.lib.io.open(pysal.lib.examples.get_path(\"stl.gal\")).read()\n",
    "f_ex = pysal.lib.io.open(pysal.lib.examples.get_path(\"stl_hom.txt\"))\n",
    "y_ex = np.array(f_ex.by_col['HR8893'])\n",
    "from pysal.explore.esda.moran import Moran\n",
    "mi_ex = Moran(y_ex,  w_ex)\n"
   ]
  },
  {
   "cell_type": "code",
   "execution_count": 86,
   "metadata": {},
   "outputs": [
    {
     "name": "stdout",
     "output_type": "stream",
     "text": [
      "Moran's I:\t\t 0.24365582621771695\n",
      "Moran's I p:\t\t 0.00027147862770937614\n"
     ]
    }
   ],
   "source": [
    "print(\"Moran's I:\\t\\t\", mi_ex.I)\n",
    "print(\"Moran's I p:\\t\\t\", mi_ex.p_norm)"
   ]
  },
  {
   "cell_type": "code",
   "execution_count": null,
   "metadata": {},
   "outputs": [],
   "source": []
  }
 ],
 "metadata": {
  "kernelspec": {
   "display_name": "Python 3",
   "language": "python",
   "name": "python3"
  },
  "language_info": {
   "codemirror_mode": {
    "name": "ipython",
    "version": 3
   },
   "file_extension": ".py",
   "mimetype": "text/x-python",
   "name": "python",
   "nbconvert_exporter": "python",
   "pygments_lexer": "ipython3",
   "version": "3.6.7"
  }
 },
 "nbformat": 4,
 "nbformat_minor": 2
}
