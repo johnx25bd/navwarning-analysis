{
 "cells": [
  {
   "cell_type": "code",
   "execution_count": 1,
   "metadata": {},
   "outputs": [],
   "source": [
    "import pandas as pd\n",
    "import geopandas as gpd\n",
    "import shapely"
   ]
  },
  {
   "cell_type": "code",
   "execution_count": 4,
   "metadata": {},
   "outputs": [],
   "source": [
    "def convertGeometries(df):\n",
    "    for i in range(len(df)):\n",
    "        geom_type = df.loc[i, 'GeometryType']\n",
    "        geom = None\n",
    "        if geom_type == 'Point':\n",
    "            geom =shapely.geometry.Point(df.loc[0,'Coordinates'])\n",
    "        elif geom_type == 'GeometryCollection':\n",
    "            if df.loc[i,'Coordinates'][0] == df.loc[i,'Coordinates'][-1]:\n",
    "                geom = shapely.geometry.Polygon(df.loc[i,'Coordinates'])\n",
    "            else:\n",
    "                geom = shapely.geometry.LineString(df.loc[i,'Coordinates'])\n",
    "        df.loc[i, 'geometry'] = geom"
   ]
  },
  {
   "cell_type": "code",
   "execution_count": 5,
   "metadata": {},
   "outputs": [],
   "source": [
    "df = pd.read_csv('https://raw.githubusercontent.com/robisoniv/navwarning-analysis/master/CleanedData.csv')\n",
    "df = df.drop(columns=['Unnamed: 0'])\n",
    "df['StartDate'] = pd.to_datetime(df['StartDate'])\n",
    "df['EndDate'] = pd.to_datetime(df['EndDate'])\n",
    "df['BroadcastingDate'] = pd.to_datetime(df['BroadcastingDate'])\n",
    "df['Coordinates'] = df['Coordinates'].apply(lambda c: eval(c))\n",
    "convertGeometries(df)"
   ]
  },
  {
   "cell_type": "code",
   "execution_count": 26,
   "metadata": {},
   "outputs": [],
   "source": [
    "gdf = gpd.GeoDataFrame(df)\n",
    "gdf['centroid'] = gdf['geometry'].centroid\n",
    "for i in range(len(gdf)):\n",
    "    gdf.loc[i, 'lon_centroid'] = list(gdf.loc[i, 'centroid'].coords[0])[0]\n",
    "    gdf.loc[i, 'lat_centroid'] = list(gdf.loc[i, 'centroid'].coords[0])[1]"
   ]
  }
 ],
 "metadata": {
  "kernelspec": {
   "display_name": "Python 2",
   "language": "python",
   "name": "python2"
  },
  "language_info": {
   "codemirror_mode": {
    "name": "ipython",
    "version": 2
   },
   "file_extension": ".py",
   "mimetype": "text/x-python",
   "name": "python",
   "nbconvert_exporter": "python",
   "pygments_lexer": "ipython2",
   "version": "2.7.15"
  }
 },
 "nbformat": 4,
 "nbformat_minor": 2
}
